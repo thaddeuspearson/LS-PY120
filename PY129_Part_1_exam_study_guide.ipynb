{
 "cells": [
  {
   "cell_type": "markdown",
   "metadata": {},
   "source": [
    "# PY129 Part 1: Exam Study Guide\n",
    "---"
   ]
  },
  {
   "cell_type": "markdown",
   "metadata": {},
   "source": [
    "## [Classes and Objects](https://launchschool.com/books/oo_python/read/classes_objects):"
   ]
  },
  {
   "cell_type": "markdown",
   "metadata": {},
   "source": [
    "### [Instantiation and `__init__`](https://launchschool.com/books/oo_python/read/classes_objects#objectinstantiation)\n",
    "\n",
    "1. `__init__` is called every time a new object is created from its respective class with the class constructor\n",
    "\n",
    "2. called the **initializer** or **init**\n",
    "\n",
    "3. the `__new__` method is called first with an invocation of the class constructor. This allocates memory, and returns an uninitialized object to `__init__`, which handles the initialization"
   ]
  },
  {
   "cell_type": "code",
   "execution_count": null,
   "metadata": {},
   "outputs": [
    {
     "name": "stdout",
     "output_type": "stream",
     "text": [
      "Calling `__init__`\n"
     ]
    }
   ],
   "source": [
    "class Stormtrooper:\n",
    "    def __init__(self):\n",
    "        print(\"Calling `__init__`\")\n",
    "\n",
    "TK_421 = Stormtrooper()"
   ]
  },
  {
   "cell_type": "markdown",
   "metadata": {},
   "source": [
    "### [Instance Variables](https://launchschool.com/books/oo_python/read/classes_objects#instancevariables), [Class Variables](https://launchschool.com/books/oo_python/read/classes_objects#classvariables), [Scope](https://launchschool.com/books/oo_python/read/classes_objects#objectscope)\n",
    "\n",
    "1. `Instance variables` keep track of the state of an object, and capture information related to class instances\n",
    "\n",
    "2. `Class variables` keep trakck of the state of a class, and capture information related to a class\n",
    "\n",
    "3. `Object Scope` includes instance variables unique to each object and access to class methods/variables; requires a specific instance to access\n",
    "\n",
    "4. `Class Scope` encompasses class variables and methods shared by all instances; accessible through the class name; persists throughout program execution"
   ]
  },
  {
   "cell_type": "code",
   "execution_count": null,
   "metadata": {},
   "outputs": [],
   "source": [
    "class Stormtrooper:\n",
    "    class_variable = \"This is a class variable value\"\n",
    "\n",
    "    def __init__(self, instance_variable_value=\"This is an instance variable value\"):\n",
    "        self.instance_variable = instance_variable_value\n",
    "    \n",
    "TK_421 = Stormtrooper()"
   ]
  },
  {
   "cell_type": "markdown",
   "metadata": {},
   "source": [
    "### [Instance Methods](https://launchschool.com/books/oo_python/read/classes_objects#instancemethods) vs. [Class Methods](https://launchschool.com/books/oo_python/read/classes_objects#classmethods) vs. [Static Methods](https://launchschool.com/books/oo_python/read/classes_objects#staticmethods)\n",
    "\n",
    "1. `Instance Methods`\n",
    "    - Operate on object instances\n",
    "    - receive `self` as first parameter automatically\n",
    "    - can access/modify instance state through `self` and class state through `self.__class__`\n",
    "\n",
    "2. `Class Methods`\n",
    "    - Operate at class level\n",
    "    - use `@classmethod` decorator; receive `cls` parameter automatically\n",
    "    - can access/modify class state but not instance state directly\n",
    "    - useful for alternative constructors or methods that need class context\n",
    "\n",
    "3. `Static Methods`\n",
    "    - Independent utility functions\n",
    "    - use `@staticmethod` decorator; receive no automatic parameters\n",
    "    - cannot access/modify instance or class state directly\n",
    "    - useful for helper methods that don't need object or class context\n",
    "\n",
    "**TLDR**: Choose **instance methods** for object-specific behavior, **class methods** for class-wide functionality, and **static methods** when you need a utility function related to the class that doesn't use class or instance data"
   ]
  },
  {
   "cell_type": "code",
   "execution_count": 9,
   "metadata": {},
   "outputs": [
    {
     "name": "stdout",
     "output_type": "stream",
     "text": [
      "This is an instance method for self.id='TK_421'\n",
      "This is a class method for Stormtrooper.count=3 Stormtroopers\n",
      "This is a static method that says that stormtroopers can't shoot\n"
     ]
    }
   ],
   "source": [
    "class Stormtrooper:\n",
    "    count = 0\n",
    "\n",
    "    def __init__(self, id: str):\n",
    "        self.id = id\n",
    "        self.__class__.count += 1\n",
    "\n",
    "    def instance_method(self):\n",
    "        print(f\"This is an instance method for {self.id=}\")\n",
    "\n",
    "    @classmethod\n",
    "    def class_method(cls):\n",
    "        print(f\"This is a class method for {Stormtrooper.count=} Stormtroopers\")\n",
    "\n",
    "    @staticmethod\n",
    "    def static_method():\n",
    "        print(\"This is a static method that says that stormtroopers can't shoot\")\n",
    "    \n",
    "TK_421 = Stormtrooper(\"TK_421\")\n",
    "TK_422 = Stormtrooper(\"TK_422\")\n",
    "TK_423 = Stormtrooper(\"TK_423\")\n",
    "TK_421.instance_method()\n",
    "TK_422.class_method()\n",
    "TK_423.static_method()"
   ]
  },
  {
   "cell_type": "markdown",
   "metadata": {},
   "source": [
    "### [Attributes](https://launchschool.com/lessons/50ed1d17/assignments/e3750536) and [State](https://launchschool.com/books/oo_python/read/classes_objects#statesandbehaviors)\n",
    "\n",
    "1. `State` is the specific data associated with a class instance (object)\n",
    "\n",
    "2. `Attribute` are the different characteristics that make up an object, and include **methods** _(behaviors)_ and **instance variables** _(states)_"
   ]
  },
  {
   "cell_type": "markdown",
   "metadata": {},
   "source": [
    "### Calling and accessing instance, class, and static attributes: `self`, `cls`, `obj.__class__`"
   ]
  },
  {
   "cell_type": "code",
   "execution_count": 13,
   "metadata": {},
   "outputs": [
    {
     "name": "stdout",
     "output_type": "stream",
     "text": [
      "Tk_421\n",
      "This is an instance method for self.id='Tk_421'\n",
      "1\n",
      "This is a class method for Stormtrooper.count=1 Stormtroopers\n",
      "This is a static method that says that stormtroopers can't shoot\n",
      "This is a static method that says that stormtroopers can't shoot\n"
     ]
    }
   ],
   "source": [
    "class Stormtrooper:\n",
    "    count = 0\n",
    "\n",
    "    def __init__(self, id: str):\n",
    "        self.id = id\n",
    "        self.__class__.count += 1\n",
    "\n",
    "    def instance_method(self):\n",
    "        print(f\"This is an instance method for {self.id=}\")\n",
    "\n",
    "    @classmethod\n",
    "    def class_method(cls):\n",
    "        print(f\"This is a class method for {Stormtrooper.count=} Stormtroopers\")\n",
    "\n",
    "    @staticmethod\n",
    "    def static_method():\n",
    "        print(\"This is a static method that says that stormtroopers can't shoot\")\n",
    "\n",
    "TK_421 = Stormtrooper(\"Tk_421\")\n",
    "\n",
    "# Calling / Accessing Instance Attributes\n",
    "print(TK_421.id)\n",
    "TK_421.instance_method()\n",
    "\n",
    "# Calling / Accessing Class attributes\n",
    "print(Stormtrooper.count)\n",
    "TK_421.__class__.class_method()\n",
    "\n",
    "# Calling / Accessing Static attributes\n",
    "Stormtrooper.static_method()\n",
    "TK_421.__class__.static_method()"
   ]
  },
  {
   "cell_type": "markdown",
   "metadata": {},
   "source": [
    "### Creating and using [Properties](https://launchschool.com/books/oo_python/read/classes_objects#properties), [Getters and Setters](https://launchschool.com/books/oo_python/read/classes_objects#getterssetters)\n",
    "\n",
    "1. `Properties` are attributes that have **getter** and **setter** methods.\n",
    "\n",
    "2. The associated attributes should be prepended with the single or double underscore convention, but only in the getter / setter methods"
   ]
  },
  {
   "cell_type": "code",
   "execution_count": 23,
   "metadata": {},
   "outputs": [
    {
     "name": "stdout",
     "output_type": "stream",
     "text": [
      "Calling id setter\n",
      "Calling id getter\n"
     ]
    },
    {
     "data": {
      "text/plain": [
       "'TK_421'"
      ]
     },
     "execution_count": 23,
     "metadata": {},
     "output_type": "execute_result"
    }
   ],
   "source": [
    "class Stormtrooper:\n",
    "    def __init__(self, id: str):\n",
    "        self.id = id\n",
    "\n",
    "    @property\n",
    "    def id(self) -> str:\n",
    "        print('Calling id getter')\n",
    "        return self._id\n",
    "    \n",
    "    @id.setter\n",
    "    def id(self, id: str):\n",
    "        print('Calling id setter')\n",
    "        self._id = id\n",
    "\n",
    "TK_421 = Stormtrooper(\"TK_421\")\n",
    "TK_421.id"
   ]
  },
  {
   "cell_type": "markdown",
   "metadata": {},
   "source": [
    "### [Access control in Python: single and double underscore name conventions](https://launchschool.com/books/oo_python/read/classes_objects#privacy)\n",
    "\n",
    "1. There is no way to keep anyone from directly accessing all attributes and properties directly in python. \"Everyone is a responsable user\"\n",
    "\n",
    "2. use single underscore prepending to indicate a variable is meant to be treated as \"private\"\n",
    "\n",
    "3. use double underscore prepending in order to take advantage of **name mangling**, helpful to not accidentally override other methods and attributes of other classes with the same names\n",
    "\n",
    "4. When a class uses double-underscore prefixed attributes (`__name`), Python mangles these names to include the class name (e.g., `_ClassName__name`), preventing accidental overrides by subclasses."
   ]
  },
  {
   "cell_type": "code",
   "execution_count": 30,
   "metadata": {},
   "outputs": [
    {
     "name": "stdout",
     "output_type": "stream",
     "text": [
      "Calling id setter\n",
      "TK_421\n",
      "'Stormtrooper' object has no attribute '__id'\n"
     ]
    }
   ],
   "source": [
    "class Stormtrooper:\n",
    "    def __init__(self, id: str):\n",
    "        self.id = id\n",
    "\n",
    "    @property\n",
    "    def id(self) -> str:\n",
    "        print('Calling id getter')\n",
    "        return self.__id\n",
    "    \n",
    "    @id.setter\n",
    "    def id(self, id: str):\n",
    "        print('Calling id setter')\n",
    "        self.__id = id\n",
    "\n",
    "\n",
    "TK_421 = Stormtrooper(\"TK_421\")\n",
    "print(TK_421._Stormtrooper__id)\n",
    "\n",
    "try:\n",
    "    print(TK_421.__id)\n",
    "except AttributeError as e:\n",
    "    print(e)"
   ]
  },
  {
   "cell_type": "markdown",
   "metadata": {},
   "source": [
    "### [Encapsulation](https://launchschool.com/lessons/14df5ba5/assignments/61060a75) and [Polymorphism](https://launchschool.com/lessons/14df5ba5/assignments/2bfba238)\n",
    "\n",
    "1. `Encapsulation`: Hiding data and functionality from the rest of the code base. Only expose \"Public Interfaces\" to interact with the intantiated objects\n",
    "\n",
    "2. `Polymorphism`: The ability for different data types to respond to the same interface. Ex: multiple classes that have a `.move()` method"
   ]
  }
 ],
 "metadata": {
  "kernelspec": {
   "display_name": "Python 3",
   "language": "python",
   "name": "python3"
  },
  "language_info": {
   "codemirror_mode": {
    "name": "ipython",
    "version": 3
   },
   "file_extension": ".py",
   "mimetype": "text/x-python",
   "name": "python",
   "nbconvert_exporter": "python",
   "pygments_lexer": "ipython3",
   "version": "3.11.11"
  }
 },
 "nbformat": 4,
 "nbformat_minor": 2
}
