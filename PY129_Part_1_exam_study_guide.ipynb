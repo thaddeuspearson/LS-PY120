{
 "cells": [
  {
   "cell_type": "markdown",
   "metadata": {},
   "source": [
    "# PY129 Part 1: Exam Study Guide\n",
    "---"
   ]
  },
  {
   "cell_type": "markdown",
   "metadata": {},
   "source": [
    "## [Classes and Objects](https://launchschool.com/books/oo_python/read/classes_objects):"
   ]
  },
  {
   "cell_type": "markdown",
   "metadata": {},
   "source": [
    "### [Instantiation and `__init__`](https://launchschool.com/books/oo_python/read/classes_objects#objectinstantiation)\n",
    "\n",
    "1. `__init__` is called every time a new object is created from its respective class with the class constructor\n",
    "\n",
    "2. called the **initializer** or **init**\n",
    "\n",
    "3. the `__new__` method is called first with an invocation of the class constructor. This allocates memory, and returns an uninitialized object to `__init__`, which handles the initialization"
   ]
  },
  {
   "cell_type": "code",
   "execution_count": null,
   "metadata": {},
   "outputs": [
    {
     "name": "stdout",
     "output_type": "stream",
     "text": [
      "Calling `__init__`\n"
     ]
    }
   ],
   "source": [
    "class Stormtrooper:\n",
    "    def __init__(self):\n",
    "        print(\"Calling `__init__`\")\n",
    "\n",
    "TK_421 = Stormtrooper()"
   ]
  },
  {
   "cell_type": "markdown",
   "metadata": {},
   "source": [
    "### [Instance Variables](https://launchschool.com/books/oo_python/read/classes_objects#instancevariables), [Class Variables](https://launchschool.com/books/oo_python/read/classes_objects#classvariables), [Scope](https://launchschool.com/books/oo_python/read/classes_objects#objectscope)\n",
    "\n",
    "1. `Instance variables` keep track of the state of an object, and capture information related to class instances\n",
    "\n",
    "2. `Class variables` keep trakck of the state of a class, and capture information related to a class\n",
    "\n",
    "3. `Object Scope` includes instance variables unique to each object and access to class methods/variables; requires a specific instance to access\n",
    "\n",
    "4. `Class Scope` encompasses class variables and methods shared by all instances; accessible through the class name; persists throughout program execution"
   ]
  },
  {
   "cell_type": "code",
   "execution_count": null,
   "metadata": {},
   "outputs": [],
   "source": [
    "class Stormtrooper:\n",
    "    class_variable = \"This is a class variable value\"\n",
    "\n",
    "    def __init__(self, instance_variable_value=\"This is an instance variable value\"):\n",
    "        self.instance_variable = instance_variable_value\n",
    "    \n",
    "TK_421 = Stormtrooper()"
   ]
  },
  {
   "cell_type": "markdown",
   "metadata": {},
   "source": [
    "### [Instance Methods](https://launchschool.com/books/oo_python/read/classes_objects#instancemethods) vs. [Class Methods](https://launchschool.com/books/oo_python/read/classes_objects#classmethods) vs. [Static Methods](https://launchschool.com/books/oo_python/read/classes_objects#staticmethods)\n",
    "\n",
    "1. `Instance Methods`\n",
    "    - Operate on object instances\n",
    "    - receive `self` as first parameter automatically\n",
    "    - can access/modify instance state through `self` and class state through `self.__class__`\n",
    "\n",
    "2. `Class Methods`\n",
    "    - Operate at class level\n",
    "    - use `@classmethod` decorator; receive `cls` parameter automatically\n",
    "    - can access/modify class state but not instance state directly\n",
    "    - useful for alternative constructors or methods that need class context\n",
    "\n",
    "3. `Static Methods`\n",
    "    - Independent utility functions\n",
    "    - use `@staticmethod` decorator; receive no automatic parameters\n",
    "    - cannot access/modify instance or class state directly\n",
    "    - useful for helper methods that don't need object or class context\n",
    "\n",
    "**TLDR**: Choose **instance methods** for object-specific behavior, **class methods** for class-wide functionality, and **static methods** when you need a utility function related to the class that doesn't use class or instance data"
   ]
  },
  {
   "cell_type": "code",
   "execution_count": 9,
   "metadata": {},
   "outputs": [
    {
     "name": "stdout",
     "output_type": "stream",
     "text": [
      "This is an instance method for self.id='TK_421'\n",
      "This is a class method for Stormtrooper.count=3 Stormtroopers\n",
      "This is a static method that says that stormtroopers can't shoot\n"
     ]
    }
   ],
   "source": [
    "class Stormtrooper:\n",
    "    count = 0\n",
    "\n",
    "    def __init__(self, id: str):\n",
    "        self.id = id\n",
    "        self.__class__.count += 1\n",
    "\n",
    "    def instance_method(self):\n",
    "        print(f\"This is an instance method for {self.id=}\")\n",
    "\n",
    "    @classmethod\n",
    "    def class_method(cls):\n",
    "        print(f\"This is a class method for {Stormtrooper.count=} Stormtroopers\")\n",
    "\n",
    "    @staticmethod\n",
    "    def static_method():\n",
    "        print(\"This is a static method that says that stormtroopers can't shoot\")\n",
    "    \n",
    "TK_421 = Stormtrooper(\"TK_421\")\n",
    "TK_422 = Stormtrooper(\"TK_422\")\n",
    "TK_423 = Stormtrooper(\"TK_423\")\n",
    "TK_421.instance_method()\n",
    "TK_422.class_method()\n",
    "TK_423.static_method()"
   ]
  },
  {
   "cell_type": "markdown",
   "metadata": {},
   "source": [
    "### [Attributes](https://launchschool.com/lessons/50ed1d17/assignments/e3750536) and [State](https://launchschool.com/books/oo_python/read/classes_objects#statesandbehaviors)\n",
    "\n",
    "1. `State` is the specific data associated with a class instance (object)\n",
    "\n",
    "2. `Attribute` are the different characteristics that make up an object, and include **methods** _(behaviors)_ and **instance variables** _(states)_"
   ]
  },
  {
   "cell_type": "markdown",
   "metadata": {},
   "source": [
    "### Calling and accessing instance, class, and static attributes: `self`, `cls`, `obj.__class__`"
   ]
  },
  {
   "cell_type": "code",
   "execution_count": 13,
   "metadata": {},
   "outputs": [
    {
     "name": "stdout",
     "output_type": "stream",
     "text": [
      "Tk_421\n",
      "This is an instance method for self.id='Tk_421'\n",
      "1\n",
      "This is a class method for Stormtrooper.count=1 Stormtroopers\n",
      "This is a static method that says that stormtroopers can't shoot\n",
      "This is a static method that says that stormtroopers can't shoot\n"
     ]
    }
   ],
   "source": [
    "class Stormtrooper:\n",
    "    count = 0\n",
    "\n",
    "    def __init__(self, id: str):\n",
    "        self.id = id\n",
    "        self.__class__.count += 1\n",
    "\n",
    "    def instance_method(self):\n",
    "        print(f\"This is an instance method for {self.id=}\")\n",
    "\n",
    "    @classmethod\n",
    "    def class_method(cls):\n",
    "        print(f\"This is a class method for {Stormtrooper.count=} Stormtroopers\")\n",
    "\n",
    "    @staticmethod\n",
    "    def static_method():\n",
    "        print(\"This is a static method that says that stormtroopers can't shoot\")\n",
    "\n",
    "TK_421 = Stormtrooper(\"Tk_421\")\n",
    "\n",
    "# Calling / Accessing Instance Attributes\n",
    "print(TK_421.id)\n",
    "TK_421.instance_method()\n",
    "\n",
    "# Calling / Accessing Class attributes\n",
    "print(Stormtrooper.count)\n",
    "TK_421.__class__.class_method()\n",
    "\n",
    "# Calling / Accessing Static attributes\n",
    "Stormtrooper.static_method()\n",
    "TK_421.__class__.static_method()"
   ]
  },
  {
   "cell_type": "markdown",
   "metadata": {},
   "source": [
    "### Creating and using [Properties](https://launchschool.com/books/oo_python/read/classes_objects#properties), [Getters and Setters](https://launchschool.com/books/oo_python/read/classes_objects#getterssetters)\n",
    "\n",
    "1. `Properties` are attributes that have **getter** and **setter** methods.\n",
    "\n",
    "2. The associated attributes should be prepended with the single or double underscore convention, but only in the getter / setter methods"
   ]
  },
  {
   "cell_type": "code",
   "execution_count": 23,
   "metadata": {},
   "outputs": [
    {
     "name": "stdout",
     "output_type": "stream",
     "text": [
      "Calling id setter\n",
      "Calling id getter\n"
     ]
    },
    {
     "data": {
      "text/plain": [
       "'TK_421'"
      ]
     },
     "execution_count": 23,
     "metadata": {},
     "output_type": "execute_result"
    }
   ],
   "source": [
    "class Stormtrooper:\n",
    "    def __init__(self, id: str):\n",
    "        self.id = id\n",
    "\n",
    "    @property\n",
    "    def id(self) -> str:\n",
    "        print('Calling id getter')\n",
    "        return self._id\n",
    "    \n",
    "    @id.setter\n",
    "    def id(self, id: str):\n",
    "        print('Calling id setter')\n",
    "        self._id = id\n",
    "\n",
    "TK_421 = Stormtrooper(\"TK_421\")\n",
    "TK_421.id"
   ]
  },
  {
   "cell_type": "markdown",
   "metadata": {},
   "source": [
    "### [Access control in Python: single and double underscore name conventions](https://launchschool.com/books/oo_python/read/classes_objects#privacy)\n",
    "\n",
    "1. There is no way to keep anyone from directly accessing all attributes and properties directly in python. \"Everyone is a responsable user\"\n",
    "\n",
    "2. use single underscore prepending to indicate a variable is meant to be treated as \"private\"\n",
    "\n",
    "3. use double underscore prepending in order to take advantage of **name mangling**, helpful to not accidentally override other methods and attributes of other classes with the same names\n",
    "\n",
    "4. When a class uses double-underscore prefixed attributes (`__name`), Python mangles these names to include the class name (e.g., `_ClassName__name`), preventing accidental overrides by subclasses."
   ]
  },
  {
   "cell_type": "code",
   "execution_count": 30,
   "metadata": {},
   "outputs": [
    {
     "name": "stdout",
     "output_type": "stream",
     "text": [
      "Calling id setter\n",
      "TK_421\n",
      "'Stormtrooper' object has no attribute '__id'\n"
     ]
    }
   ],
   "source": [
    "class Stormtrooper:\n",
    "    def __init__(self, id: str):\n",
    "        self.id = id\n",
    "\n",
    "    @property\n",
    "    def id(self) -> str:\n",
    "        print('Calling id getter')\n",
    "        return self.__id\n",
    "    \n",
    "    @id.setter\n",
    "    def id(self, id: str):\n",
    "        print('Calling id setter')\n",
    "        self.__id = id\n",
    "\n",
    "\n",
    "TK_421 = Stormtrooper(\"TK_421\")\n",
    "print(TK_421._Stormtrooper__id)\n",
    "\n",
    "try:\n",
    "    print(TK_421.__id)\n",
    "except AttributeError as e:\n",
    "    print(e)"
   ]
  },
  {
   "cell_type": "markdown",
   "metadata": {},
   "source": [
    "### [Encapsulation](https://launchschool.com/lessons/14df5ba5/assignments/61060a75) and [Polymorphism](https://launchschool.com/lessons/14df5ba5/assignments/2bfba238)\n",
    "\n",
    "1. `Encapsulation`: Hiding data and functionality from the rest of the code base. Only expose \"Public Interfaces\" to interact with the intantiated objects\n",
    "\n",
    "2. `Polymorphism`: The ability for different data types to respond to the same interface. Ex: multiple classes that have a `.move()` method"
   ]
  },
  {
   "cell_type": "code",
   "execution_count": null,
   "metadata": {},
   "outputs": [
    {
     "name": "stdout",
     "output_type": "stream",
     "text": [
      "'Jedi' object has no attribute '__midichlorian_count'\n",
      "obi._Jedi__midichlorian_count = 5000\n",
      "May the force be with you\n",
      "AHHHHHHHHHHHH\n"
     ]
    }
   ],
   "source": [
    "# Encapsulation Example: mangled instance variable\n",
    "\n",
    "class Jedi:\n",
    "    def __init__(self, name, midichlorian_count: int = 5000):\n",
    "        self._name = name\n",
    "        self.__midichlorian_count = midichlorian_count\n",
    "\n",
    "obiwan = Jedi(\"Obiwan\")\n",
    "try:\n",
    "    print(f\"{obiwan.__midichlorian_count = }\")\n",
    "except AttributeError as e:\n",
    "    print(e)\n",
    "    print(f\"{obiwan._Jedi__midichlorian_count = }\")\n",
    "\n",
    "\n",
    "# Polymorphism Example: Ducktyping\n",
    "\n",
    "class StarWarsMovie:\n",
    "    def __init__(self, rebels: list):\n",
    "        self.rebel_alliance = rebels\n",
    "    def fight_the_empire(self):\n",
    "        for rebel in self.rebel_alliance:\n",
    "            rebel.fight()\n",
    "\n",
    "class Jedi:\n",
    "    def fight(self):\n",
    "        self.use_the_force()\n",
    "\n",
    "    def use_the_force(self):\n",
    "        print(\"May the force be with you\")\n",
    "\n",
    "class Pilot:\n",
    "    def fight(self):\n",
    "        self.fly_xwing()\n",
    "\n",
    "    def fly_xwing(self):\n",
    "        print(\"AHHHHHHHHHHHH\")\n",
    "\n",
    "luke = Jedi()\n",
    "porkins = Pilot()\n",
    "\n",
    "a_new_hope = StarWarsMovie([luke, porkins])\n",
    "a_new_hope.fight_the_empire()"
   ]
  },
  {
   "cell_type": "markdown",
   "metadata": {},
   "source": [
    "## [Inheritance](https://launchschool.com/books/oo_python/read/inheritance#classinheritance)"
   ]
  },
  {
   "cell_type": "markdown",
   "metadata": {},
   "source": [
    "### [self](https://launchschool.com/books/oo_python/read/classes_objects#moreaboutself) vs [cls](https://launchschool.com/books/oo_python/read/classes_objects#moreaboutcls)\n",
    "\n",
    "1. `self` always represents a calling object\n",
    "\n",
    "2. `cls` always represents a class\n",
    "\n",
    "3. They are fundamentally the same convention, but used in each of their respective contexts (self -> calling object, cls -> class)"
   ]
  },
  {
   "cell_type": "markdown",
   "metadata": {},
   "source": [
    "### [super()](https://launchschool.com/books/oo_python/read/inheritance#superfunction)\n",
    "\n",
    "1. a method to access the superclass of the calling object or class\n",
    "\n",
    "2. technically returns a **proxy object** which acts like an instance of the superclass of the calling object\n",
    "\n",
    "3. subclasses should _almost always_ call `super().__init__()` in their own init"
   ]
  },
  {
   "cell_type": "markdown",
   "metadata": {},
   "source": [
    "### [Mix-ins](https://launchschool.com/books/oo_python/read/inheritance#mixins) (interface inheritance)\n",
    "\n",
    "1. Non-instantiated classes that provide common behavior to distinct classes that have no common heirarchy\n",
    "\n",
    "2. Conventionally ends in `Mixin` as a suffix"
   ]
  },
  {
   "cell_type": "code",
   "execution_count": 41,
   "metadata": {},
   "outputs": [
    {
     "name": "stdout",
     "output_type": "stream",
     "text": [
      "Pew Pew\n",
      "Pew Pew\n"
     ]
    }
   ],
   "source": [
    "class ShootMixin:\n",
    "    def shoot(self):\n",
    "        print(\"Pew Pew\")\n",
    "\n",
    "class Blaster(ShootMixin):\n",
    "    pass\n",
    "\n",
    "class Deathstar(ShootMixin):\n",
    "    pass\n",
    "\n",
    "trusty = Blaster()\n",
    "no_moon = Deathstar()\n",
    "\n",
    "trusty.shoot()\n",
    "no_moon.shoot()"
   ]
  },
  {
   "cell_type": "markdown",
   "metadata": {},
   "source": [
    "## [\"is-a\" vs. \"has-a\"](https://launchschool.com/books/oo_python/read/inheritance#isavshasa)\n",
    "\n",
    "1. `is-a` describes inheritance relationships _(ex: Yoda is-a master)_\n",
    "\n",
    "2. `has-a` describes classes / mixins _(ex: Anikin has-a master)_\n",
    "\n",
    "3. **Compositions** / **Collaborations** are closely linked with `has-a`\n",
    "\n",
    "4. Favor Composition over Inheritance"
   ]
  },
  {
   "cell_type": "code",
   "execution_count": 45,
   "metadata": {},
   "outputs": [
    {
     "name": "stdout",
     "output_type": "stream",
     "text": [
      "Rey uses the force\n",
      "Vwoooooom!\n"
     ]
    }
   ],
   "source": [
    "class ForceUser:\n",
    "    def use_the_force(self):\n",
    "        print(f\"{self.name} uses the force\")\n",
    "\n",
    "class Lightsaber:\n",
    "    def shii_cho(self):\n",
    "        print(\"Vwoooooom!\")\n",
    "    \n",
    "class Jedi(ForceUser):\n",
    "    def __init__(self, name: str):\n",
    "        self.name = name\n",
    "        self.lightsaber = Lightsaber()\n",
    "\n",
    "rey = Jedi(\"Rey\")\n",
    "rey.use_the_force()     # rey is-a ForceUser\n",
    "rey.lightsaber.shii_cho()   # rey has-a lightsaber"
   ]
  },
  {
   "cell_type": "markdown",
   "metadata": {},
   "source": [
    "### [Method Resolution Order](https://launchschool.com/books/oo_python/read/inheritance#mro) (MRO)\n",
    "\n",
    "1. The distinct lookup path the interpreter uses when resolving inheritance chains\n",
    "\n",
    "2. `object.mro()`\n",
    "\n",
    "3. All classes are subclasses of `object` and all classes are instances of `type` metaclass\n",
    "\n",
    "4. Follows left-to-right, recursive resolution order for inheritance chain"
   ]
  },
  {
   "cell_type": "markdown",
   "metadata": {},
   "source": [
    "### [is and id()](](https://launchschool.com/lessons/9363d6ba/assignments/e52deb0d))\n",
    "\n",
    "1. `is` checks whether two objects have the same identity\n",
    "\n",
    "2. `id()` returns the address where the argument is located in memory (in hexadecimal)"
   ]
  },
  {
   "cell_type": "markdown",
   "metadata": {},
   "source": [
    "### [Magic methods and attributes](https://launchschool.com/books/oo_python/read/magic_methods#strreprmethods)\n",
    "\n",
    "1. `__str__`: the method searched for in an object when the interpreter is trying to print, or coerce the object to its string representation\n",
    "\n",
    "2. `__repr__`: the method searched for in an object when the interpreter is trying to print and there is no `__str__` method in the heirarchy chain of the object, or coerce the object to its repr representation\n",
    "\n",
    "3. `__eq__`, `__ne__`: custom implementations of equality operators for the given class ( `==` | `!=` )\n",
    "\n",
    "4. `__gt__`, `__ge__`, `__lt__`, `__le__`: custom implementations of inequaity operators for the given class ( `>` | `>=` | `<` | `<=` )\n",
    "\n",
    "5. `__add__`, `__sub__`, `__mul__`: custom implementations of arithmetic operators ( `+` | `-` | `*` etc...)"
   ]
  },
  {
   "cell_type": "code",
   "execution_count": null,
   "metadata": {},
   "outputs": [],
   "source": [
    "class Sith:\n",
    "    def __init__(self, name: str):\n",
    "        self.name = name\n",
    "\n",
    "    def __str__(self) -> str:\n",
    "        return f\"I'm {self.name} the {self.__class__.__name__}\"\n",
    "    \n",
    "    def __repr__(self) -> str:\n",
    "        return f\"Sith({repr(self.name)})\"\n",
    "\n",
    "\n",
    "maul = Sith(\"Maul\")\n",
    "assert str(maul) == \"I'm Maul the Sith\"\n",
    "assert repr(maul) == \"Sith('Maul')\"\n",
    "\n",
    "\n",
    "class Droid:\n",
    "    def __init__(self, height: float):\n",
    "        self.height = height\n",
    "\n",
    "    def __eq__(self, other) -> bool:\n",
    "        if not isinstance(other, Droid):\n",
    "            return NotImplemented\n",
    "        \n",
    "        return self.height == other.height\n",
    "    \n",
    "    def __ne__(self, other) -> bool:\n",
    "        if not isinstance(other, Droid):\n",
    "            return NotImplemented\n",
    "        \n",
    "        return self.height != other.height\n",
    "    \n",
    "    def __gt__(self, other) -> bool:\n",
    "        if not isinstance(other, Droid):\n",
    "            return NotImplemented\n",
    "        \n",
    "        return self.height > other.height\n",
    "    \n",
    "    def __ge__(self, other) -> bool:\n",
    "        if not isinstance(other, Droid):\n",
    "            return NotImplemented\n",
    "        \n",
    "        return self.height >= other.height\n",
    "    \n",
    "    def __lt__(self, other) -> bool:\n",
    "        if not isinstance(other, Droid):\n",
    "            return NotImplemented\n",
    "        \n",
    "        return self.height < other.height\n",
    "    \n",
    "    def __lt__(self, other) -> bool:\n",
    "        if not isinstance(other, Droid):\n",
    "            return NotImplemented\n",
    "        \n",
    "        return self.height <= other.height\n",
    "\n",
    "\n",
    "c3po = Droid(height=1.5)\n",
    "r2d2 = Droid(height=.5)\n",
    "assert not c3po == r2d2\n",
    "assert c3po != r2d2\n",
    "assert c3po > r2d2\n",
    "assert r2d2 < c3po\n",
    "assert r2d2 <= c3po\n",
    "assert c3po >= r2d2\n",
    "\n",
    "\n",
    "class General:\n",
    "    def __init__(self, num_of_limbs: int):\n",
    "        self.num_of_limbs = num_of_limbs\n",
    "\n",
    "    def __isub__(self, limbs_lost):\n",
    "        if not isinstance(limbs_lost, int):\n",
    "            return NotImplemented\n",
    "        \n",
    "        self.num_of_limbs -= limbs_lost\n",
    "        return self\n",
    "    \n",
    "grievous = General(4)\n",
    "grievous -= 1\n",
    "grievous -= 1\n",
    "grievous -= 1\n",
    "grievous -= 1\n",
    "assert grievous.num_of_limbs == 0"
   ]
  },
  {
   "cell_type": "markdown",
   "metadata": {},
   "source": [
    "### [__class__](https://launchschool.com/books/oo_python/read/classes_objects#classmethods) and [__name__](https://launchschool.com/books/oo_python/read/magic_methods#magicvariables)\n",
    "\n",
    "1. `__class__` refrences the class of the object\n",
    "\n",
    "2. `__name__` returns the string representation of current module's name\n",
    "\n",
    "3. If the module is currently running, the `__name__` attribute is assigned to `__main__`"
   ]
  },
  {
   "cell_type": "markdown",
   "metadata": {},
   "source": [
    "## [Exceptions](https://launchschool.com/lessons/9363d6ba/assignments/0434f002):\n",
    "\n",
    "1. An **exception** is an event that occurs during the execution of a program, disrupting its normal flow\n",
    "\n",
    "2. `try` / `except` is the way to catch exceptions. An **exception handler** includes the `except` statement, and any code within it's context block\n",
    "\n",
    "3. optional `else` and `finally` blocks can be appended after. `else` runs if no exception is raised, and `finally` always runs no matter what\n",
    "\n",
    "3. Exceptions can be raised with the `raise` keyword\n",
    "\n",
    "4. Custom exceptions can be defined as a custom class"
   ]
  },
  {
   "cell_type": "code",
   "execution_count": null,
   "metadata": {},
   "outputs": [
    {
     "name": "stdout",
     "output_type": "stream",
     "text": [
      "It's over Anikin. I have the high ground.\n"
     ]
    }
   ],
   "source": [
    "class HighGroundError(Exception):\n",
    "    def __init__(self, opponent_name: str):\n",
    "        message = f\"It's over {opponent_name}. I have the high ground.\"\n",
    "        super().__init__(message)\n",
    "\n",
    "class Jedi:\n",
    "    def __init__(self, name, midichlorian_count: int = 5000):\n",
    "        self.name = name\n",
    "        self.has_the_high_ground = False\n",
    "\n",
    "def defeat(apprentice: Jedi, master: Jedi):\n",
    "    if master.has_the_high_ground:\n",
    "        raise HighGroundError(apprentice.name)\n",
    "\n",
    "\n",
    "obiwan = Jedi(\"Obiwan\")\n",
    "anikin = Jedi(\"Anikin\")\n",
    "obiwan.has_the_high_ground = True\n",
    "\n",
    "try:\n",
    "    defeat(anikin, obiwan)\n",
    "except HighGroundError as e:\n",
    "    print(e)"
   ]
  }
 ],
 "metadata": {
  "kernelspec": {
   "display_name": "Python 3",
   "language": "python",
   "name": "python3"
  },
  "language_info": {
   "codemirror_mode": {
    "name": "ipython",
    "version": 3
   },
   "file_extension": ".py",
   "mimetype": "text/x-python",
   "name": "python",
   "nbconvert_exporter": "python",
   "pygments_lexer": "ipython3",
   "version": "3.11.11"
  }
 },
 "nbformat": 4,
 "nbformat_minor": 2
}
