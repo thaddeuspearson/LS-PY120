{
 "cells": [
  {
   "cell_type": "markdown",
   "metadata": {},
   "source": [
    "# Practice Problems: Medium 1\n",
    "---"
   ]
  },
  {
   "cell_type": "markdown",
   "metadata": {},
   "source": [
    "### Question 1\n",
    "Alyssa asked Ben to code review the following code:\n",
    "\n",
    "```python\n",
    "    class BankAccount:\n",
    "        def __init__(self, starting_balance):\n",
    "            self._balance = starting_balance\n",
    "\n",
    "        def balance_is_positive(self):\n",
    "            return self.balance > 0\n",
    "\n",
    "        @property\n",
    "        def balance(self):\n",
    "            return self._balance\n",
    "```\n",
    "Ben glanced over the code quickly and said - \"It looks fine, except that you're trying to access `self.balance` instead of `self._balance` in the `balance_is_positive` method.\"\n",
    "\n",
    "\"Not so fast,\" Alyssa replied. \"What I'm doing here is valid; I can definitely use `self.balance` there!\"\n",
    "\n",
    "Who is correct, Ben or Alyssa? Why?\n",
    "\n",
    "### Answer:\n",
    "\n",
    "Alyssa is correct. `.balance` is a property, defined with the `@property` decorator. What Ben said is sort of true, in that it _could_ work to directly access `self._balance` in `balance_is_positive`, but that would not be considered a best practice, as the creator of this function has marked this property as \"private\" with the single underscore convention."
   ]
  },
  {
   "cell_type": "markdown",
   "metadata": {},
   "source": [
    "### Question 2\n",
    "Alan created the following code to keep track of items for a shopping cart application he's writing:\n",
    "\n",
    "```python\n",
    "    class InvoiceEntry:\n",
    "        def __init__(self, product_name, number_purchased):\n",
    "            self._product_name = product_name\n",
    "            self._quantity = number_purchased\n",
    "\n",
    "    entry = InvoiceEntry('Marbles', 5000)\n",
    "    print(entry.quantity)         # 5000\n",
    "\n",
    "    entry.quantity = 10_000\n",
    "    print(entry.quantity)         # 10_000\n",
    "```\n",
    "\n",
    "Without changing any of the above lines of code, update the `InvoiceEntry` class so it functions as shown."
   ]
  },
  {
   "cell_type": "code",
   "execution_count": 2,
   "metadata": {},
   "outputs": [
    {
     "name": "stdout",
     "output_type": "stream",
     "text": [
      "5000\n",
      "10000\n"
     ]
    }
   ],
   "source": [
    "class InvoiceEntry:\n",
    "    def __init__(self, product_name, number_purchased):\n",
    "        self._product_name = product_name\n",
    "        self._quantity = number_purchased\n",
    "\n",
    "    @property\n",
    "    def quantity(self) -> int:\n",
    "        return self._quantity\n",
    "\n",
    "    @quantity.setter\n",
    "    def quantity(self, quantity: int):\n",
    "        self._quantity = quantity\n",
    "\n",
    "\n",
    "entry = InvoiceEntry('Marbles', 5000)\n",
    "print(entry.quantity)         # 5000\n",
    "\n",
    "entry.quantity = 10_000\n",
    "print(entry.quantity)         # 10_000"
   ]
  },
  {
   "cell_type": "markdown",
   "metadata": {},
   "source": [
    "### Question 3\n",
    "Let's practice creating an object hierarchy.\n",
    "\n",
    "Create a class called `Animal` with a single instance method called `speak` that takes a string argument and prints that argument to the terminal.\n",
    "\n",
    "Now create two other classes that inherit from Animal, one called `Cat` and one called `Dog`. The Cat class should have a `meow` method that takes no arguments and prints `Meow!`. The Dog class should have a `bark` method that says `Woof! Woof! Woof!` (dogs never bark just once). Make use of the Animal class's speak method when implementing the Cat and Dog classes. Don't invoke the print function in either of the subclasses."
   ]
  },
  {
   "cell_type": "code",
   "execution_count": 4,
   "metadata": {},
   "outputs": [],
   "source": [
    "class Animal:\n",
    "    def speak(self, sound: str):\n",
    "        return sound\n",
    "    \n",
    "class Cat(Animal):\n",
    "    def meow(self):\n",
    "        return self.speak(\"Meow!\")\n",
    "    \n",
    "class Dog(Animal):\n",
    "    def bark(self):\n",
    "        return self.speak(\"Woof! Woof! Woof!\")\n",
    "    \n",
    "c = Cat()\n",
    "assert c.meow() == \"Meow!\"\n",
    "\n",
    "d = Dog()\n",
    "assert d.bark() == \"Woof! Woof! Woof!\""
   ]
  },
  {
   "cell_type": "markdown",
   "metadata": {},
   "source": [
    "### Question 4\n",
    "\n",
    "You are given the following code:\n",
    "\n",
    "```python\n",
    "    class KrispyKreme:\n",
    "        def __init__(self, filling, glazing):\n",
    "            self.filling = filling\n",
    "            self.glazing = glazing\n",
    "\n",
    "    donut1 = KrispyKreme(None, None)\n",
    "    donut2 = KrispyKreme('Vanilla', None)\n",
    "    donut3 = KrispyKreme(None, 'sugar')\n",
    "    donut4 = KrispyKreme(None, 'chocolate sprinkles')\n",
    "    donut5 = KrispyKreme('Custard', 'icing')\n",
    "\n",
    "    print(donut1)       # Plain\n",
    "    print(donut2)       # Vanilla\n",
    "    print(donut3)       # Plain with sugar\n",
    "    print(donut4)       # Plain with chocolate sprinkles\n",
    "    print(donut5)       # Custard with icing\n",
    "```\n",
    "\n",
    "Write additional code for `KrispyKreme` such that the print invocations will work as shown above."
   ]
  },
  {
   "cell_type": "code",
   "execution_count": 12,
   "metadata": {},
   "outputs": [],
   "source": [
    "class KrispyKreme:\n",
    "    def __init__(self, filling, glazing):\n",
    "        self.filling = filling\n",
    "        self.glazing = glazing\n",
    "\n",
    "    def __str__(self):\n",
    "        description = \"\"\n",
    "        description += self.filling if self.filling else \"Plain\"\n",
    "        description += f\" with {self.glazing}\" if self.glazing else \"\"\n",
    "        return description\n",
    "\n",
    "\n",
    "donut1 = KrispyKreme(None, None)\n",
    "donut2 = KrispyKreme('Vanilla', None)\n",
    "donut3 = KrispyKreme(None, 'sugar')\n",
    "donut4 = KrispyKreme(None, 'chocolate sprinkles')\n",
    "donut5 = KrispyKreme('Custard', 'icing')\n",
    "\n",
    "assert str(donut1) == \"Plain\", donut1\n",
    "assert str(donut2) == \"Vanilla\"\n",
    "assert str(donut3) == \"Plain with sugar\"\n",
    "assert str(donut4) == \"Plain with chocolate sprinkles\"\n",
    "assert str(donut5) == \"Custard with icing\""
   ]
  },
  {
   "cell_type": "markdown",
   "metadata": {},
   "source": [
    "### Question 5\n",
    "How could you change the `light_status` method name below so that the method name is clearer and less repetitive?\n",
    "\n",
    "```python\n",
    "    class Light:\n",
    "        def __init__(self, brightness, color):\n",
    "            self.brightness = brightness\n",
    "            self.color = color\n",
    "\n",
    "        def light_status(self):\n",
    "            return (f'I have a brightness level of {self.brightness} '\n",
    "                    f'and a color of {self.color}')\n",
    "\n",
    "    my_light = Light(50, 'Red')\n",
    "    print(my_light.light_status())\n",
    "```\n",
    "\n",
    "### Answer:\n",
    "change it to `status()`. With invocation, `Light.status()` is very pythonic and readable."
   ]
  }
 ],
 "metadata": {
  "kernelspec": {
   "display_name": "Python 3",
   "language": "python",
   "name": "python3"
  },
  "language_info": {
   "codemirror_mode": {
    "name": "ipython",
    "version": 3
   },
   "file_extension": ".py",
   "mimetype": "text/x-python",
   "name": "python",
   "nbconvert_exporter": "python",
   "pygments_lexer": "ipython3",
   "version": "3.11.11"
  }
 },
 "nbformat": 4,
 "nbformat_minor": 2
}
