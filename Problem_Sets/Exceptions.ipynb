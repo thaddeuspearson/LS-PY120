{
 "cells": [
  {
   "cell_type": "markdown",
   "metadata": {},
   "source": [
    "# Problem Sets: Exceptions\n",
    "---\n",
    "In the previous assignment, you learned about exceptions. In this assignment, we'll get some practice using exceptions."
   ]
  },
  {
   "cell_type": "markdown",
   "metadata": {},
   "source": [
    "### Problem 1\n",
    "Write a program that asks the user for two numbers and divides the first number by the second number. Handle any potential `ZeroDivisionError` or `ValueError` exceptions _(there is no need to retry inputs in this problem)_."
   ]
  },
  {
   "cell_type": "code",
   "execution_count": null,
   "metadata": {},
   "outputs": [],
   "source": [
    "def two_nums() -> float:\n",
    "    num_1 = float(input(\"Enter a number: \"))\n",
    "    num_2 = float(input(\"Enter an other number: \"))\n",
    "    try:\n",
    "        return num_1 / num_2\n",
    "    except ZeroDivisionError as e:\n",
    "        print(str(e))\n",
    "    except ValueError as e:\n",
    "        print(str(e))"
   ]
  },
  {
   "cell_type": "markdown",
   "metadata": {},
   "source": [
    "### Problem 2\n",
    "Expand your answer to the previous program so it prints the result only when no exceptions are raised. You should also print `End of the program` regardless of whether an exception is raised."
   ]
  },
  {
   "cell_type": "code",
   "execution_count": null,
   "metadata": {},
   "outputs": [],
   "source": [
    "def two_nums() -> float:\n",
    "    num_1 = float(input(\"Enter a number: \"))\n",
    "    num_2 = float(input(\"Enter an other number: \"))\n",
    "    try:\n",
    "        answer = num_1 / num_2\n",
    "    except ZeroDivisionError as e:\n",
    "        print(str(e))\n",
    "    except ValueError as e:\n",
    "        print(str(e))\n",
    "    else:\n",
    "        print(answer)\n",
    "    finally:\n",
    "        print(\"End of the program\")"
   ]
  },
  {
   "cell_type": "markdown",
   "metadata": {},
   "source": [
    "### Problem 3\n",
    "Modify your answer to the previous problem so it handles both `ZeroDivisionError` and `ValueError` with a single exception handler. The output for both exception types can be obtained from the exception object."
   ]
  },
  {
   "cell_type": "code",
   "execution_count": null,
   "metadata": {},
   "outputs": [],
   "source": [
    "def two_nums() -> float:\n",
    "    num_1 = float(input(\"Enter a number: \"))\n",
    "    num_2 = float(input(\"Enter an other number: \"))\n",
    "    try:\n",
    "        answer = num_1 / num_2\n",
    "    except (ZeroDivisionError, ValueError) as e:\n",
    "        print(str(e))\n",
    "    else:\n",
    "        print(answer)\n",
    "    finally:\n",
    "        print(\"End of the program\")"
   ]
  },
  {
   "cell_type": "markdown",
   "metadata": {},
   "source": [
    "### Problem 4\n",
    "Write a program that asks the user for a number. If the input isn't a number, let Python raise an appropriate exception. If the number is negative, raise a `ValueError` with an appropriate error message. If the number isn't negative, print a message that shows its value."
   ]
  },
  {
   "cell_type": "code",
   "execution_count": null,
   "metadata": {},
   "outputs": [],
   "source": [
    "def get_positive_number() -> float:\n",
    "    number = float(input(\"Enter a number: \"))\n",
    "    if number < 0:\n",
    "        raise ValueError(\"No negative numbers allowed\")\n",
    "    else:\n",
    "        print(f\"The number is {number}\")"
   ]
  },
  {
   "cell_type": "markdown",
   "metadata": {},
   "source": [
    "### Problem 5\n",
    "Modify your answer from the previous problem to raise a custom exception named `NegativeNumberError` instead of an ordinary ValueError exception."
   ]
  },
  {
   "cell_type": "code",
   "execution_count": null,
   "metadata": {},
   "outputs": [],
   "source": [
    "class NegativeNumberError(Exception):\n",
    "    def __init__(self, message=\"Given number is negative\"):\n",
    "        super().__init__(message)\n",
    "\n",
    "def get_positive_number() -> float:\n",
    "    number = float(input(\"Enter a number: \"))\n",
    "    if number < 0:\n",
    "        raise NegativeNumberError()\n",
    "    else:\n",
    "        print(f\"The number is {number}\")\n",
    "\n",
    "get_positive_number()"
   ]
  },
  {
   "cell_type": "markdown",
   "metadata": {},
   "source": [
    "### Problem 6\n",
    "Write a function that takes a list of numbers and returns the inverse of each number (if n is a number, then 1 / n is its inverse). Handle any exceptions that might occur."
   ]
  },
  {
   "cell_type": "code",
   "execution_count": null,
   "metadata": {},
   "outputs": [],
   "source": [
    "def get_inverses(numbers: list) -> list:\n",
    "    inverses = []\n",
    "    \n",
    "    for num in numbers:\n",
    "        try:\n",
    "            inverses.append(1 / num)\n",
    "        except ZeroDivisionError:\n",
    "            inverses.append(None)\n",
    "    return inverses\n",
    "\n",
    "\n",
    "assert get_inverses([1, 0, 2]) == [1, None, .5]"
   ]
  },
  {
   "cell_type": "markdown",
   "metadata": {},
   "source": [
    "### Problem 7\n",
    "Which of the following code snippets would raise a `ZeroDivisionError`?\n",
    "\n",
    "```python\n",
    "a) 5 / 2\n",
    "b) 3 // 0\n",
    "c) 8 % (1 - 1)\n",
    "d) 7 / (3 + 4)\n",
    "```\n",
    "\n",
    "### Answer:\n",
    "b and c would both raise a `ZeroDivisionError`."
   ]
  },
  {
   "cell_type": "markdown",
   "metadata": {},
   "source": [
    "### Problem 8\n",
    "Given the following global dictionary:\n",
    "\n",
    "```python\n",
    "students = {'John': 25, 'Jane': 22, 'Doe': 30}\n",
    "```\n",
    "\n",
    "Write a Python function `get_age(name)` that takes a student's name as an argument and returns their age. If the student's name isn't in the dictionary, the function should return `'Student not found'`."
   ]
  },
  {
   "cell_type": "code",
   "execution_count": 12,
   "metadata": {},
   "outputs": [],
   "source": [
    "def get_age(name: str) -> int:\n",
    "    try:\n",
    "        return students[name]\n",
    "    except KeyError:\n",
    "        return \"Student Not Found\"\n",
    "\n",
    "\n",
    "students = {'John': 25, 'Jane': 22, 'Doe': 30}\n",
    "assert get_age(\"Caratticus\") == \"Student Not Found\"\n",
    "assert get_age(\"John\") == 25"
   ]
  },
  {
   "cell_type": "markdown",
   "metadata": {},
   "source": [
    "### Problem 9\n",
    "Given the following list:\n",
    "\n",
    "```python\n",
    "numbers = [1, 2, 3, 4, 5]\n",
    "```\n",
    "\n",
    "Write two functions to fetch the sixth element from the list: one using the **LBYL** approach and another using the **AFNP** approach. In both cases, the function should return `None` when the element isn't found."
   ]
  },
  {
   "cell_type": "code",
   "execution_count": 15,
   "metadata": {},
   "outputs": [],
   "source": [
    "def get_sixth_lbyl(numbers: list) -> int:\n",
    "    if len(numbers) < 6:\n",
    "        return None\n",
    "    else:\n",
    "        return numbers[5]\n",
    "    \n",
    "def get_sixth_afnp(numbers: list) -> int:\n",
    "    try:\n",
    "        return numbers[5]\n",
    "    except IndexError:\n",
    "        return None\n",
    "    \n",
    "\n",
    "numbers = [1, 2, 3, 4, 5]\n",
    "assert get_sixth_lbyl(numbers) is None\n",
    "assert get_sixth_afnp(numbers) is None"
   ]
  },
  {
   "cell_type": "markdown",
   "metadata": {},
   "source": [
    "### Problem 10\n",
    "Which of the following code snippets would raise an `AttributeError`?\n",
    "\n",
    "```python\n",
    "a) 'hello'.upper()\n",
    "b) [1, 2, 3].push(4)\n",
    "c) {'key': 'value'}.get('key')\n",
    "d) (12345).length()\n",
    "```\n",
    "\n",
    "### Answer:\n",
    "b and d will raise an `AttributeError`."
   ]
  }
 ],
 "metadata": {
  "kernelspec": {
   "display_name": "Python 3",
   "language": "python",
   "name": "python3"
  },
  "language_info": {
   "codemirror_mode": {
    "name": "ipython",
    "version": 3
   },
   "file_extension": ".py",
   "mimetype": "text/x-python",
   "name": "python",
   "nbconvert_exporter": "python",
   "pygments_lexer": "ipython3",
   "version": "3.11.11"
  }
 },
 "nbformat": 4,
 "nbformat_minor": 2
}
