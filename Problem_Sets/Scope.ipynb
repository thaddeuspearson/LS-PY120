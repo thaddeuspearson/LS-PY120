{
 "cells": [
  {
   "cell_type": "markdown",
   "metadata": {},
   "source": [
    "# Problem Sets: Scope\n",
    "---\n",
    "In the previous two assignments, you learned about instance and class variable scope in Python, especially in the face of inheritance. Let's get some practice with these concepts."
   ]
  },
  {
   "cell_type": "markdown",
   "metadata": {},
   "source": [
    "### Problem 3\n",
    "Define a `Dog` class that has a `breed` instance variable. Instantiate two objects from this class, one with the breed `'Golden Retriever'` and another with the breed `'Poodle'`. Print the breed of each dog."
   ]
  },
  {
   "cell_type": "code",
   "execution_count": 3,
   "metadata": {},
   "outputs": [],
   "source": [
    "class Dog:\n",
    "    def __init__(self, breed: str):\n",
    "        self.breed = breed\n",
    "\n",
    "gold = Dog(\"Golden Retriever\")\n",
    "poo = Dog(\"Poodle\")\n",
    "\n",
    "assert gold.breed == \"Golden Retriever\"\n",
    "assert poo.breed == \"Poodle\""
   ]
  },
  {
   "cell_type": "markdown",
   "metadata": {},
   "source": [
    "### Problem 2\n",
    "Add a `get_breed` method to the `Dog` class from your answer to the previous problem. The method should return the dog's breed. Use the method to print the breeds of the two dog objects you created in the previous problem. You should also mark the breed instance variable for internal use only."
   ]
  },
  {
   "cell_type": "code",
   "execution_count": null,
   "metadata": {},
   "outputs": [],
   "source": [
    "class Dog:\n",
    "    def __init__(self, breed: str):\n",
    "        self.breed = breed\n",
    "\n",
    "    @property\n",
    "    def breed(self) -> str:\n",
    "        return self._breed\n",
    "\n",
    "    @breed.setter\n",
    "    def breed(self, breed: str):\n",
    "        self._breed = breed\n",
    "        \n",
    "gold = Dog(\"Golden Retriever\")\n",
    "poo = Dog(\"Poodle\")\n",
    "\n",
    "assert gold.breed == \"Golden Retriever\"\n",
    "assert poo.breed == \"Poodle\"    "
   ]
  },
  {
   "cell_type": "markdown",
   "metadata": {},
   "source": [
    "### Problem 3\n",
    "Create a `Cat` class that has a single method named `get_name` that returns the name instance variable. Without initializing name, try to instantiate a `Cat` object and call `get_name`. Print `Name not set!` when the error occurs."
   ]
  },
  {
   "cell_type": "code",
   "execution_count": 1,
   "metadata": {},
   "outputs": [],
   "source": [
    "class Cat:\n",
    "    def get_name(self) -> str:\n",
    "        try:\n",
    "            return self.name\n",
    "        except AttributeError:\n",
    "            return \"Name not set!\"\n",
    "    \n",
    "garfield = Cat()\n",
    "assert garfield.get_name() == \"Name not set!\""
   ]
  },
  {
   "cell_type": "markdown",
   "metadata": {},
   "source": [
    "### Problem 4\n",
    "Create an instance of the Dog class from your answer to Problem 2. Set its breed directly from outside the class, then print the resulting breed."
   ]
  },
  {
   "cell_type": "code",
   "execution_count": null,
   "metadata": {},
   "outputs": [],
   "source": [
    "class Dog:\n",
    "    @property\n",
    "    def breed(self) -> str:\n",
    "        return self._breed\n",
    "\n",
    "    @breed.setter\n",
    "    def breed(self, breed: str):\n",
    "        self._breed = breed\n",
    "\n",
    "odie = Dog()\n",
    "odie.breed = \"Mutt\"\n",
    "assert odie.breed == \"Mutt\""
   ]
  },
  {
   "cell_type": "markdown",
   "metadata": {},
   "source": [
    "### Problem 5\n",
    "Define a `Student` class that has a class variable named `school_name`. You should initialize the school name to `'Oxford'`. After defining the class, instantiate an instance of the `Student` class and print the school name using that instance."
   ]
  },
  {
   "cell_type": "code",
   "execution_count": 15,
   "metadata": {},
   "outputs": [],
   "source": [
    "class Student:\n",
    "    school_name = \"Oxford\"\n",
    "\n",
    "stu = Student()\n",
    "assert stu.__class__.school_name == \"Oxford\""
   ]
  },
  {
   "cell_type": "markdown",
   "metadata": {},
   "source": [
    "### Problem 6\n",
    "Modify the `Student` class from your answer to the previous problem. The modified class should have an instance variable called `name` that gets initialized during instantiation. Create two Student objects with different names but the same school, then print the name and school for both students."
   ]
  },
  {
   "cell_type": "code",
   "execution_count": 18,
   "metadata": {},
   "outputs": [],
   "source": [
    "class Student:\n",
    "    school_name = \"Oxford\"\n",
    "\n",
    "    def __init__(self, name: str):\n",
    "        self.name = name\n",
    "\n",
    "bvs = Student(\"Beavis\")\n",
    "bh = Student(\"Butthead\")\n",
    "assert bvs.name == \"Beavis\" and bvs.__class__.school_name == \"Oxford\"\n",
    "assert bh.name == \"Butthead\" and bh.__class__.school_name == \"Oxford\""
   ]
  },
  {
   "cell_type": "markdown",
   "metadata": {},
   "source": [
    "### Problem 7\n",
    "Modify the `Student` class from your answer to the previous problem. The modified class should have a class method that returns the school's name. Without instantiating any Student objects, print the school's name in two different ways: once with the class method, and once by accessing the class variable directly."
   ]
  },
  {
   "cell_type": "code",
   "execution_count": 19,
   "metadata": {},
   "outputs": [],
   "source": [
    "class Student:\n",
    "    school_name = \"Oxford\"\n",
    "\n",
    "    @classmethod\n",
    "    def get_school_name(cls):\n",
    "        return cls.school_name\n",
    "\n",
    "    def __init__(self, name: str):\n",
    "        self.name = name\n",
    "\n",
    "\n",
    "assert Student.get_school_name() == \"Oxford\"\n",
    "assert Student.school_name == \"Oxford\"\n",
    "    "
   ]
  },
  {
   "cell_type": "markdown",
   "metadata": {},
   "source": [
    "### Problem 8\n",
    "Create a `Car` class that has a class variable named `manufacturer` and an instance variable named `manufacturer`. Initialize these variables to different values. Add a `show_manufacturer` method that prints both the class and instance variables."
   ]
  },
  {
   "cell_type": "code",
   "execution_count": 24,
   "metadata": {},
   "outputs": [
    {
     "name": "stdout",
     "output_type": "stream",
     "text": [
      "Car.manufacturer='Dacia'\n",
      "Toyota\n"
     ]
    }
   ],
   "source": [
    "class Car:\n",
    "    manufacturer = \"Dacia\"\n",
    "\n",
    "    def __init__(self, manufacturer: str):\n",
    "        self.manufacturer = manufacturer\n",
    "\n",
    "    def show_manufacturer(self):\n",
    "        print(f\"{Car.manufacturer=}\")\n",
    "        print(f\"{self.manufacturer}\")\n",
    "\n",
    "busted = Car(\"Toyota\")\n",
    "busted.show_manufacturer()"
   ]
  },
  {
   "cell_type": "markdown",
   "metadata": {},
   "source": [
    "### Problem 9\n",
    "Create a `Bird` class that has a `species` attribute. Create a `Sparrow` class that inherits from the `Bird` class. Create a `Sparrow` instance object, then print its species. The expected output is sparrow."
   ]
  },
  {
   "cell_type": "code",
   "execution_count": 25,
   "metadata": {},
   "outputs": [],
   "source": [
    "class Bird:\n",
    "    def __init__(self, species):\n",
    "        self.species = species\n",
    "\n",
    "class Sparrow(Bird):\n",
    "    pass\n",
    "\n",
    "tweety = Sparrow(\"Sparrow\")\n",
    "assert tweety.species == \"Sparrow\""
   ]
  },
  {
   "cell_type": "markdown",
   "metadata": {},
   "source": [
    "### Problem 10\n",
    "Consider the following code:\n",
    "\n",
    "```Python\n",
    "    class Bird:\n",
    "        def __init__(self, species):\n",
    "            self.species = species\n",
    "\n",
    "    class Sparrow(Bird):\n",
    "        def __init__(self, species, color):\n",
    "            self.color = color\n",
    "\n",
    "    birdie = Sparrow(\"sparrow\", \"brown\")\n",
    "    print(birdie.species)               # What will this output?\n",
    "```\n",
    "\n",
    "Without running the above code, what will it output? If it raises an error, explain why and how to fix it.\n",
    "\n",
    "### Answer:\n",
    "As written, this will raise an `AttributeError` because the `__init__` in Sparrow does not currently call the `__init__` in its superclass, Bird. To fix this, simply call `super().__init__(species)` as seen in the code example below"
   ]
  },
  {
   "cell_type": "code",
   "execution_count": null,
   "metadata": {},
   "outputs": [],
   "source": [
    "class Bird:\n",
    "    def __init__(self, species):\n",
    "        self.species = species\n",
    "\n",
    "class Sparrow(Bird):\n",
    "    def __init__(self, species, color):\n",
    "        super().__init__(species)\n",
    "        self.color = color\n",
    "\n",
    "\n",
    "birdie = Sparrow(\"sparrow\", \"brown\")\n",
    "assert birdie.species == \"sparrow\""
   ]
  },
  {
   "cell_type": "markdown",
   "metadata": {},
   "source": [
    "### Problem 11\n",
    "Create a `Mammal` class that always sets an attribute called `legs` to a value of 4. Create a `Human` class that inherits from `Mammal`, but instead sets the value of legs to 2. Print the number of legs for a human to verify correct operation."
   ]
  },
  {
   "cell_type": "code",
   "execution_count": 30,
   "metadata": {},
   "outputs": [],
   "source": [
    "class Mammel:\n",
    "    def __init__(self, legs: int = 4):\n",
    "        self.legs = legs\n",
    "\n",
    "class Human(Mammel):\n",
    "    def __init__(self, legs: int = 2):\n",
    "        super().__init__(legs)\n",
    "\n",
    "\n",
    "voldemort = Human()\n",
    "assert voldemort.legs == 2"
   ]
  },
  {
   "cell_type": "markdown",
   "metadata": {},
   "source": [
    "### Problem 12\n",
    "Consider the following code:\n",
    "\n",
    "```python\n",
    "    class Cat:\n",
    "        sound = \"meow\"\n",
    "\n",
    "        @classmethod\n",
    "        def make_sound(cls):\n",
    "            return cls.sound\n",
    "\n",
    "    class Lion(Cat):\n",
    "        sound = \"roar\"\n",
    "\n",
    "    print(Lion.make_sound())\n",
    "```\n",
    "\n",
    "Without running the code, what will this code output, and why?\n",
    "\n",
    "### Answer:\n",
    "This will print `\"roar\"`, as the `make_sound` class method is inherited by `Lion`, which has its own class variable `sound` defined, and this is what is in scope when it is invoked."
   ]
  },
  {
   "cell_type": "code",
   "execution_count": 31,
   "metadata": {},
   "outputs": [
    {
     "name": "stdout",
     "output_type": "stream",
     "text": [
      "roar\n"
     ]
    }
   ],
   "source": [
    "class Cat:\n",
    "    sound = \"meow\"\n",
    "\n",
    "    @classmethod\n",
    "    def make_sound(cls):\n",
    "        return cls.sound\n",
    "\n",
    "class Lion(Cat):\n",
    "    sound = \"roar\"\n",
    "\n",
    "print(Lion.make_sound())"
   ]
  },
  {
   "cell_type": "markdown",
   "metadata": {},
   "source": [
    "### Problem 13\n",
    "\n",
    "Consider the following code:\n",
    "\n",
    "```python\n",
    "    class Tree:\n",
    "        def __init__(self):\n",
    "            self.type = \"Generic Tree\"\n",
    "\n",
    "    class Pine(Tree):\n",
    "        def __init__(self):\n",
    "            super().__init__()\n",
    "            self.type = \"Pine Tree\"\n",
    "```\n",
    "\n",
    "Without running the code, when an instance of Pine is created, what value will its type attribute have? Why?\n",
    "\n",
    "### Answer:\n",
    "Since Tree's `__init__` method is called with `super()` in the `__init__` of `Pine`, initially, the `.type` attribute will be assigned to the value `\"Generic Tree\"`, and then immediately be reassigned to `\"Pine Tree\"`."
   ]
  },
  {
   "cell_type": "code",
   "execution_count": 32,
   "metadata": {},
   "outputs": [],
   "source": [
    "class Tree:\n",
    "    def __init__(self):\n",
    "        self.type = \"Generic Tree\"\n",
    "\n",
    "class Pine(Tree):\n",
    "    def __init__(self):\n",
    "        super().__init__()\n",
    "        self.type = \"Pine Tree\"\n",
    "\n",
    "t = Pine()\n",
    "assert t.type == \"Pine Tree\""
   ]
  },
  {
   "cell_type": "markdown",
   "metadata": {},
   "source": [
    "### Problem 14\n",
    "\n",
    "Consider the following code:\n",
    "\n",
    "```python\n",
    "    class A:\n",
    "    def __init__(self):\n",
    "        self.var_a = \"A class variable\"\n",
    "\n",
    "    class B(A):\n",
    "        def __init__(self):\n",
    "            self.var_b = \"B class variable\"\n",
    "\n",
    "    b = B()\n",
    "    print(b.var_a)\n",
    "```\n",
    "\n",
    "Without running this code, what will happen if you were to run it? Why?\n",
    "\n",
    "### Answer:\n",
    "The code as written wil raise an `AttributeError`, because `B` does not call `A`'s `__init__` method, therefore `var_a` is never instantiated.\n"
   ]
  },
  {
   "cell_type": "code",
   "execution_count": 34,
   "metadata": {},
   "outputs": [],
   "source": [
    "class A:\n",
    "  def __init__(self):\n",
    "      self.var_a = \"A class variable\"\n",
    "\n",
    "class B(A):\n",
    "    def __init__(self):\n",
    "        self.var_b = \"B class variable\"\n",
    "\n",
    "b = B()\n",
    "try:\n",
    "    print(b.var_a)\n",
    "except AttributeError as e:\n",
    "    assert str(e) == \"'B' object has no attribute 'var_a'\""
   ]
  }
 ],
 "metadata": {
  "kernelspec": {
   "display_name": "Python 3",
   "language": "python",
   "name": "python3"
  },
  "language_info": {
   "codemirror_mode": {
    "name": "ipython",
    "version": 3
   },
   "file_extension": ".py",
   "mimetype": "text/x-python",
   "name": "python",
   "nbconvert_exporter": "python",
   "pygments_lexer": "ipython3",
   "version": "3.11.11"
  }
 },
 "nbformat": 4,
 "nbformat_minor": 2
}
