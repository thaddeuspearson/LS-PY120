{
 "cells": [
  {
   "cell_type": "markdown",
   "metadata": {},
   "source": [
    "# Problem Sets: Objects and Classes\n",
    "---\n",
    "Class based inheritance works great when it's used to model hierarchical domains. Let's take a look at a few practice problems. Suppose we're building a software system for a pet hotel business, so our classes deal with pets."
   ]
  },
  {
   "cell_type": "markdown",
   "metadata": {},
   "source": [
    "### Problem 1\n",
    "Given this class:\n",
    "\n",
    "\n",
    "```Python\n",
    "    class Dog:\n",
    "        def speak(self):\n",
    "            return 'bark!'\n",
    "\n",
    "        def sleep(self):\n",
    "            return 'sleeping!'\n",
    "\n",
    "    teddy = Dog()\n",
    "    print(teddy.speak())      # bark!\n",
    "    print(teddy.sleep())      # sleeping!\n",
    "```\n",
    "\n",
    "One problem is that we need to keep track of different breeds of dogs, since they have slightly different behaviors. For example, bulldogs snore when they sleep, but other dogs do not. Okay, I have no idea if that's entirely true; I suspect it isn't. Let's pretend it is.\n",
    "\n",
    "Create a subclass from `Dog` called `Bulldog` overriding the `sleep` method to return \"snoring!\""
   ]
  },
  {
   "cell_type": "code",
   "execution_count": 1,
   "metadata": {},
   "outputs": [
    {
     "name": "stdout",
     "output_type": "stream",
     "text": [
      "bark!\n",
      "sleeping!\n",
      "bark!\n",
      "snoring!\n"
     ]
    }
   ],
   "source": [
    "class Dog:\n",
    "    def speak(self):\n",
    "        return 'bark!'\n",
    "\n",
    "    def sleep(self):\n",
    "        return 'sleeping!'\n",
    "    \n",
    "class Bulldog(Dog):\n",
    "    def sleep(self):\n",
    "        return 'snoring!'\n",
    "\n",
    "teddy = Dog()\n",
    "print(teddy.speak())      # bark!\n",
    "print(teddy.sleep())      # sleeping!\n",
    "\n",
    "bully = Bulldog()\n",
    "print(bully.speak())      # bark!\n",
    "print(bully.sleep())      # sleeping!"
   ]
  },
  {
   "cell_type": "markdown",
   "metadata": {},
   "source": [
    "### Problem 2\n",
    "\n",
    "Let's create a few more methods for our Dog class.\n",
    "\n",
    "```python\n",
    "class Dog:\n",
    "    def speak(self):\n",
    "        return 'bark!'\n",
    "\n",
    "    def sleep(self):\n",
    "        return 'sleeping!'\n",
    "\n",
    "    def run(self):\n",
    "        return 'running!'\n",
    "\n",
    "    def jump(self):\n",
    "        return 'jumping!'\n",
    "\n",
    "    def fetch(self):\n",
    "        return 'fetching!'\n",
    "\n",
    "```\n",
    "\n",
    "Create a new class called `Cat`, which can do everything a dog can, except fetch. Assume the methods do the exact same thing. "
   ]
  },
  {
   "cell_type": "code",
   "execution_count": 3,
   "metadata": {},
   "outputs": [
    {
     "name": "stdout",
     "output_type": "stream",
     "text": [
      "bark!\n",
      "sleeping!\n",
      "meow!\n",
      "purring!\n"
     ]
    }
   ],
   "source": [
    "class Pet:\n",
    "    def speak(self):\n",
    "        pass\n",
    "\n",
    "    def sleep(self):\n",
    "        return 'sleeping!'\n",
    "\n",
    "    def run(self):\n",
    "        return 'running!'\n",
    "\n",
    "    def jump(self):\n",
    "        return 'jumping!'\n",
    "    \n",
    "\n",
    "class Dog(Pet):\n",
    "    def speak(self):\n",
    "        return 'bark!'\n",
    "    \n",
    "    def fetch(self):\n",
    "        return 'fetching!'\n",
    "    \n",
    "\n",
    "class Cat(Pet):\n",
    "    def speak(self):\n",
    "        return 'meow!'\n",
    "    \n",
    "    def sleep(self):\n",
    "        return 'purring!'\n",
    "    \n",
    "\n",
    "teddy = Dog()\n",
    "print(teddy.speak())      # bark!\n",
    "print(teddy.sleep())      # sleeping!\n",
    "\n",
    "dolly = Cat()\n",
    "print(dolly.speak())      # meow!\n",
    "print(dolly.sleep())      # purring!"
   ]
  }
 ],
 "metadata": {
  "kernelspec": {
   "display_name": "Python 3",
   "language": "python",
   "name": "python3"
  },
  "language_info": {
   "codemirror_mode": {
    "name": "ipython",
    "version": 3
   },
   "file_extension": ".py",
   "mimetype": "text/x-python",
   "name": "python",
   "nbconvert_exporter": "python",
   "pygments_lexer": "ipython3",
   "version": "3.11.11"
  }
 },
 "nbformat": 4,
 "nbformat_minor": 2
}
