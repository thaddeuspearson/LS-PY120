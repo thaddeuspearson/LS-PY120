{
 "cells": [
  {
   "cell_type": "markdown",
   "metadata": {},
   "source": [
    "# Problem Sets: Objects and Classes\n",
    "---\n",
    "As you know by now, classes are the blueprints for objects. Below are some practice problems that test your knowledge of the connection between classes and objects."
   ]
  },
  {
   "cell_type": "markdown",
   "metadata": {},
   "source": [
    "### Problem 1\n",
    "Given the following code, create the Person class needed to make the code work as shown:\n",
    "\n",
    "\n",
    "```Python\n",
    "    bob = Person('bob')\n",
    "    print(bob.name)           # bob\n",
    "    bob.name = 'Robert'\n",
    "    print(bob.name)           # Robert\n",
    "```"
   ]
  },
  {
   "cell_type": "code",
   "execution_count": null,
   "metadata": {},
   "outputs": [],
   "source": [
    "class Person:\n",
    "\n",
    "    def __init__(self, name: str):\n",
    "        self.name = name\n",
    "\n",
    "    @property\n",
    "    def name(self) -> str:\n",
    "        return self._name\n",
    "\n",
    "    @name.setter\n",
    "    def name(self, name: str):\n",
    "        self._name = name\n",
    "\n",
    "\n",
    "bob = Person('bob')\n",
    "print(bob.name)\n",
    "bob.name = 'Robert'\n",
    "print(bob.name)"
   ]
  },
  {
   "cell_type": "markdown",
   "metadata": {},
   "source": [
    "### Problem 2\n",
    "\n",
    "Modify the class definition from above to facilitate the following methods. Note that there is no name= setter method now.\n",
    "\n",
    "```python\n",
    "    bob = Person('Robert')\n",
    "    print(bob.name)             # Robert\n",
    "    print(bob.first_name)       # Robert\n",
    "    print(repr(bob.last_name))  # ''\n",
    "    bob.last_name = 'Smith'\n",
    "    print(bob.name)             # Robert Smith\n",
    "```"
   ]
  },
  {
   "cell_type": "code",
   "execution_count": null,
   "metadata": {},
   "outputs": [],
   "source": [
    "class Person:\n",
    "\n",
    "    def __init__(self, name: str):\n",
    "        name_parts = name.split()\n",
    "        self.first_name = name_parts[0]\n",
    "        self.last_name = name_parts[1] if len(name_parts) > 1 else \"\"\n",
    "\n",
    "    @property\n",
    "    def name(self) -> str:\n",
    "        return f\"{self.first_name} {self.last_name}\"\n",
    "\n",
    "    @property\n",
    "    def first_name(self) -> str:\n",
    "        return self._first_name\n",
    "    \n",
    "    @first_name.setter\n",
    "    def first_name(self, first_name: str):\n",
    "        self._first_name = first_name\n",
    "\n",
    "    @property\n",
    "    def last_name(self) -> str:\n",
    "        return self._last_name\n",
    "    \n",
    "    @last_name.setter\n",
    "    def last_name(self, last_name: str):\n",
    "        self._last_name = last_name\n",
    "\n",
    "\n",
    "bob = Person('Robert')\n",
    "print(bob.name)             # Robert\n",
    "print(bob.first_name)       # Robert\n",
    "print(repr(bob.last_name))  # ''\n",
    "bob.last_name = 'Smith'\n",
    "print(bob.name)             # Robert Smith"
   ]
  },
  {
   "cell_type": "markdown",
   "metadata": {},
   "source": [
    "### Problem 3\n",
    "Add a new setter property for `name` that takes either a first name or full name, and knows how to set the `first_name` and `last_name` properties appropriately. Use the following code to test your code:\n",
    "\n",
    "```python\n",
    "    bob = Person('Robert')\n",
    "    print(bob.name)             # Robert\n",
    "    print(bob.first_name)       # Robert\n",
    "    print(repr(bob.last_name))  # ''\n",
    "    bob.last_name = 'Smith'\n",
    "    print(bob.name)             # Robert Smith\n",
    "\n",
    "    bob.name = 'Prince'\n",
    "    print(bob.first_name)       # Prince\n",
    "    print(repr(bob.last_name))  # ''\n",
    "\n",
    "    bob.name = 'John Adams'\n",
    "    print(bob.first_name)       # John\n",
    "    print(bob.last_name)        # Adams\n",
    "```"
   ]
  },
  {
   "cell_type": "code",
   "execution_count": null,
   "metadata": {},
   "outputs": [],
   "source": [
    "\n",
    "class Person:\n",
    "\n",
    "    def __init__(self, name: str):\n",
    "        self.name = name\n",
    "\n",
    "    @property\n",
    "    def name(self) -> str:\n",
    "        return f\"{self.first_name} {self.last_name}\"\n",
    "    \n",
    "    @name.setter\n",
    "    def name(self, name: str):\n",
    "        name_parts = name.split()\n",
    "        first_name = name_parts[0]\n",
    "        last_name = name_parts[1] if len(name_parts) > 1 else \"\"\n",
    "        self.first_name = first_name\n",
    "        self.last_name = last_name\n",
    "\n",
    "    @property\n",
    "    def first_name(self) -> str:\n",
    "        return self._first_name\n",
    "    \n",
    "    @first_name.setter\n",
    "    def first_name(self, first_name: str):\n",
    "        self._first_name = first_name\n",
    "\n",
    "    @property\n",
    "    def last_name(self) -> str:\n",
    "        return self._last_name\n",
    "    \n",
    "    @last_name.setter\n",
    "    def last_name(self, last_name: str):\n",
    "        self._last_name = last_name\n",
    "        \n",
    "\n",
    "bob = Person('Robert')\n",
    "print(bob.name)             # Robert\n",
    "print(bob.first_name)       # Robert\n",
    "print(repr(bob.last_name))  # ''\n",
    "bob.last_name = 'Smith'\n",
    "print(bob.name)             # Robert Smith\n",
    "\n",
    "bob.name = 'Prince'\n",
    "print(bob.first_name)       # Prince\n",
    "print(repr(bob.last_name))  # ''\n",
    "\n",
    "bob.name = 'John Adams'\n",
    "print(bob.first_name)       # John\n",
    "print(bob.last_name)        # Adams"
   ]
  },
  {
   "cell_type": "markdown",
   "metadata": {},
   "source": [
    "### Problem 4\n",
    "Using the class definition from problem 3, let's create some more people (Person objects):\n",
    "\n",
    "```python\n",
    "    bob = Person('Robert Smith')\n",
    "    rob = Person('Robert Smith')\n",
    "```\n",
    "Without adding any code to the Person class, we want to compare bob and rob to see whether they both have the same name. How can we make this comparison?\n"
   ]
  },
  {
   "cell_type": "code",
   "execution_count": null,
   "metadata": {},
   "outputs": [],
   "source": [
    "bob = Person('Robert Smith')\n",
    "rob = Person('Robert Smith')\n",
    "\n",
    "print(bob.name == rob.name)"
   ]
  },
  {
   "cell_type": "markdown",
   "metadata": {},
   "source": [
    "### Problem 5\n",
    "Continuing with our Person class definition, what do you think the following code prints?\n",
    "\n",
    "```python\n",
    "    bob = Person('Robert Smith')\n",
    "    print(f\"The person's name is: {bob}\")\n",
    "```"
   ]
  },
  {
   "cell_type": "code",
   "execution_count": null,
   "metadata": {},
   "outputs": [],
   "source": [
    "bob = Person('Robert Smith')\n",
    "print(f\"The person's name is: {bob}\")"
   ]
  },
  {
   "cell_type": "markdown",
   "metadata": {},
   "source": [
    "Let's override the str function for Person objects by defining a magic method, __str__, in the Person class:"
   ]
  },
  {
   "cell_type": "code",
   "execution_count": null,
   "metadata": {},
   "outputs": [],
   "source": [
    "class Person:\n",
    "\n",
    "    def __init__(self, name: str):\n",
    "        self.name = name\n",
    "\n",
    "    def __str__(self)-> str:\n",
    "        return self.name\n",
    "    \n",
    "    @property\n",
    "    def name(self) -> str:\n",
    "        return f\"{self.first_name} {self.last_name}\"\n",
    "    \n",
    "    @name.setter\n",
    "    def name(self, name: str):\n",
    "        name_parts = name.split()\n",
    "        first_name = name_parts[0]\n",
    "        last_name = name_parts[1] if len(name_parts) > 1 else \"\"\n",
    "        self.first_name = first_name\n",
    "        self.last_name = last_name\n",
    "\n",
    "    @property\n",
    "    def first_name(self) -> str:\n",
    "        return self._first_name\n",
    "    \n",
    "    @first_name.setter\n",
    "    def first_name(self, first_name: str):\n",
    "        self._first_name = first_name\n",
    "\n",
    "    @property\n",
    "    def last_name(self) -> str:\n",
    "        return self._last_name\n",
    "    \n",
    "    @last_name.setter\n",
    "    def last_name(self, last_name: str):\n",
    "        self._last_name = last_name\n",
    "\n",
    "\n",
    "bob = Person('Robert Smith')\n",
    "print(f\"The person's name is: {bob}\")"
   ]
  }
 ],
 "metadata": {
  "kernelspec": {
   "display_name": "Python 3",
   "language": "python",
   "name": "python3"
  },
  "language_info": {
   "codemirror_mode": {
    "name": "ipython",
    "version": 3
   },
   "file_extension": ".py",
   "mimetype": "text/x-python",
   "name": "python",
   "nbconvert_exporter": "python",
   "pygments_lexer": "ipython3",
   "version": "3.11.11"
  }
 },
 "nbformat": 4,
 "nbformat_minor": 2
}
