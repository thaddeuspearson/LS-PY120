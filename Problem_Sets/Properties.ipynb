{
 "cells": [
  {
   "cell_type": "markdown",
   "metadata": {},
   "source": [
    "# Problem Sets: Properties\n",
    "---\n",
    "In the previous assignment, you learned about getters, setters, and properties. In this assignment, we'll get some practice using properties. We don't have any ordinary getter or setter practice since properties are the preferred way to control attribute access."
   ]
  },
  {
   "cell_type": "markdown",
   "metadata": {},
   "source": [
    "### Problem 1\n",
    "Create a `Person` class with a \"private\" attribute `_name`. Use properties to create a getter and setter for the `_name` attribute. The `_name` attribute must be a string. Be sure to test your code."
   ]
  },
  {
   "cell_type": "code",
   "execution_count": null,
   "metadata": {},
   "outputs": [],
   "source": [
    "class Person:\n",
    "    def __init__(self, name: str):\n",
    "        self.name = name\n",
    "\n",
    "    def __eq__(self, other):\n",
    "        return self.name == other.name\n",
    "\n",
    "    @property\n",
    "    def name(self):\n",
    "        return self._name\n",
    "\n",
    "    @name.setter\n",
    "    def name(self, name: str):\n",
    "        if not isinstance(name, str):\n",
    "            return NotImplemented\n",
    "        self._name = name\n",
    "\n",
    "\n",
    "steve = Person(\"Steve\")\n",
    "assert steve == Person(\"Steve\")\n",
    "\n",
    "david = Person(\"David\")\n",
    "david.name = 1337\n",
    "assert david.name == \"David\"\n"
   ]
  },
  {
   "cell_type": "markdown",
   "metadata": {},
   "source": [
    "### Problem 2\n",
    "Update your answer from problem 1 to disallow empty strings. You should raise a `ValueError`. Be sure to test your code."
   ]
  },
  {
   "cell_type": "code",
   "execution_count": null,
   "metadata": {},
   "outputs": [],
   "source": [
    "class Person:\n",
    "    def __init__(self, name: str):\n",
    "        self.name = name\n",
    "\n",
    "    def __eq__(self, other):\n",
    "        return self.name == other.name\n",
    "\n",
    "    @property\n",
    "    def name(self):\n",
    "        return self._name\n",
    "\n",
    "    @name.setter\n",
    "    def name(self, name: str):\n",
    "        if not isinstance(name, str):\n",
    "            return NotImplemented\n",
    "        if not name:\n",
    "            raise ValueError(\"parameter `name` must not be an empty string\")\n",
    "        self._name = name\n",
    "\n",
    "try:\n",
    "    jordan = Person(\"\")\n",
    "except ValueError as e:\n",
    "    assert str(e) == \"parameter `name` must not be an empty string\""
   ]
  },
  {
   "cell_type": "markdown",
   "metadata": {},
   "source": [
    "### Problem 3\n",
    "Create a `Rectangle` class with attributes `_width` and `_height`. Add properties to get the width and height but to disallow modification after the object is created (i.e., no setters)."
   ]
  },
  {
   "cell_type": "code",
   "execution_count": null,
   "metadata": {},
   "outputs": [],
   "source": [
    "class Rectangle:\n",
    "    def __init__(self, width: int, height: int):\n",
    "        self._width = width\n",
    "        self._height = height\n",
    "\n",
    "    @property\n",
    "    def width(self):\n",
    "        return self._width\n",
    "    \n",
    "    @property\n",
    "    def height(self):\n",
    "        return self._height\n",
    "    \n",
    "\n",
    "shape = Rectangle(2, 3)\n",
    "assert shape.width == 2\n",
    "assert shape.height == 3\n",
    "\n",
    "try:\n",
    "    shape.width = 10\n",
    "except AttributeError as e:\n",
    "    assert str(e) == \"property 'width' of 'Rectangle' object has no setter\""
   ]
  },
  {
   "cell_type": "markdown",
   "metadata": {},
   "source": [
    "### Problem 4\n",
    "Add a `brightness` property to this class."
   ]
  },
  {
   "cell_type": "code",
   "execution_count": null,
   "metadata": {},
   "outputs": [],
   "source": [
    "class SmartLamp:\n",
    "    def __init__(self, color: str, brightness: int):\n",
    "        self.color = color\n",
    "        self.brightness = brightness\n",
    "\n",
    "    def glow(self):\n",
    "        return (f'The lamp glows {self.color} with brightness {self.brightness}%.')\n",
    "\n",
    "    @property\n",
    "    def color(self) -> str:                  # Getter for _color\n",
    "        return self._color\n",
    "\n",
    "    @color.setter\n",
    "    def color(self, color: str):             # Setter for _color\n",
    "        if not isinstance(color, str):\n",
    "            raise TypeError('Color must be a color name.')\n",
    "\n",
    "        self._color = color\n",
    "\n",
    "    @property\n",
    "    def brightness(self) -> int:             # getter for _brightness\n",
    "        return self._brightness\n",
    "    \n",
    "    @brightness.setter                       # setter for _brightness\n",
    "    def brightness(self, brightness: int):\n",
    "        if not 1 <= brightness <= 100:\n",
    "            raise ValueError(\"Brightness must be between 0 and 100.\")\n",
    "\n",
    "        self._brightness = brightness\n",
    "\n",
    "\n",
    "lamp = SmartLamp('blue', 70)\n",
    "assert lamp.color == \"blue\"\n",
    "assert lamp.brightness == 70\n",
    "assert lamp.glow() == \"The lamp glows blue with brightness 70%.\"\n",
    "\n",
    "lamp.color = 'red'\n",
    "lamp.brightness = 90\n",
    "assert lamp.color == \"red\"\n",
    "assert lamp.brightness == 90\n",
    "assert lamp.glow() == \"The lamp glows red with brightness 90%.\"\n",
    "\n",
    "try:\n",
    "    lamp.brightness = 120\n",
    "except ValueError as e:\n",
    "    assert str(e) == \"Brightness must be between 0 and 100.\""
   ]
  }
 ],
 "metadata": {
  "kernelspec": {
   "display_name": "Python 3",
   "language": "python",
   "name": "python3"
  },
  "language_info": {
   "codemirror_mode": {
    "name": "ipython",
    "version": 3
   },
   "file_extension": ".py",
   "mimetype": "text/x-python",
   "name": "python",
   "nbconvert_exporter": "python",
   "pygments_lexer": "ipython3",
   "version": "3.11.11"
  }
 },
 "nbformat": 4,
 "nbformat_minor": 2
}
